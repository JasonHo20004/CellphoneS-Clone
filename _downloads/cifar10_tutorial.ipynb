{
  "cells": [
    {
      "cell_type": "code",
      "execution_count": null,
      "metadata": {
        "id": "cw_HLQItAujb"
      },
      "outputs": [],
      "source": [
        "%matplotlib inline"
      ]
    },
    {
      "cell_type": "markdown",
      "metadata": {
        "id": "bf0llCfBAuje"
      },
      "source": [
        "\n",
        "Training a Classifier\n",
        "=====================\n",
        "\n",
        "This is it. You have seen how to define neural networks, compute loss and make\n",
        "updates to the weights of the network.\n",
        "\n",
        "Now you might be thinking,\n",
        "\n",
        "What about data?\n",
        "----------------\n",
        "\n",
        "Generally, when you have to deal with image, text, audio or video data,\n",
        "you can use standard python packages that load data into a numpy array.\n",
        "Then you can convert this array into a ``torch.*Tensor``.\n",
        "\n",
        "-  For images, packages such as Pillow, OpenCV are useful\n",
        "-  For audio, packages such as scipy and librosa\n",
        "-  For text, either raw Python or Cython based loading, or NLTK and\n",
        "   SpaCy are useful\n",
        "\n",
        "Specifically for vision, we have created a package called\n",
        "``torchvision``, that has data loaders for common datasets such as\n",
        "Imagenet, CIFAR10, MNIST, etc. and data transformers for images, viz.,\n",
        "``torchvision.datasets`` and ``torch.utils.data.DataLoader``.\n",
        "\n",
        "This provides a huge convenience and avoids writing boilerplate code.\n",
        "\n",
        "For this tutorial, we will use the CIFAR10 dataset.\n",
        "It has the classes: ‘airplane’, ‘automobile’, ‘bird’, ‘cat’, ‘deer’,\n",
        "‘dog’, ‘frog’, ‘horse’, ‘ship’, ‘truck’. The images in CIFAR-10 are of\n",
        "size 3x32x32, i.e. 3-channel color images of 32x32 pixels in size.\n",
        "\n",
        ".. figure:: /_static/img/cifar10.png\n",
        "   :alt: cifar10\n",
        "\n",
        "   cifar10\n",
        "\n",
        "\n",
        "Training an image classifier\n",
        "----------------------------\n",
        "\n",
        "We will do the following steps in order:\n",
        "\n",
        "1. Load and normalizing the CIFAR10 training and test datasets using\n",
        "   ``torchvision``\n",
        "2. Define a Convolution Neural Network\n",
        "3. Define a loss function\n",
        "4. Train the network on the training data\n",
        "5. Test the network on the test data\n",
        "\n",
        "1. Loading and normalizing CIFAR10\n",
        "^^^^^^^^^^^^^^^^^^^^^^^^^^^^^^^^^^\n",
        "\n",
        "Using ``torchvision``, it’s extremely easy to load CIFAR10.\n",
        "\n"
      ]
    },
    {
      "cell_type": "code",
      "execution_count": 6,
      "metadata": {
        "id": "9FGCSskaAujg"
      },
      "outputs": [],
      "source": [
        "import torch\n",
        "import torchvision\n",
        "import torchvision.transforms as transforms"
      ]
    },
    {
      "cell_type": "markdown",
      "metadata": {
        "id": "QopYa12IAujg"
      },
      "source": [
        "The output of torchvision datasets are PILImage images of range [0, 1].\n",
        "We transform them to Tensors of normalized range [-1, 1].\n",
        "\n"
      ]
    },
    {
      "cell_type": "code",
      "execution_count": 7,
      "metadata": {
        "id": "GsNLJwH4Aujh"
      },
      "outputs": [],
      "source": [
        "transform = transforms.Compose(\n",
        "    [transforms.ToTensor(),\n",
        "     transforms.Normalize((0.5, 0.5, 0.5), (0.5, 0.5, 0.5))])\n",
        "\n",
        "trainset = torchvision.datasets.CIFAR10(root='./data', train=True,\n",
        "                                        download=True, transform=transform)\n",
        "trainloader = torch.utils.data.DataLoader(trainset, batch_size=4,\n",
        "                                          shuffle=True, num_workers=2)\n",
        "\n",
        "testset = torchvision.datasets.CIFAR10(root='./data', train=False,\n",
        "                                       download=True, transform=transform)\n",
        "testloader = torch.utils.data.DataLoader(testset, batch_size=4,\n",
        "                                         shuffle=False, num_workers=2)\n",
        "\n",
        "classes = ('plane', 'car', 'bird', 'cat',\n",
        "           'deer', 'dog', 'frog', 'horse', 'ship', 'truck')"
      ]
    },
    {
      "cell_type": "markdown",
      "metadata": {
        "id": "sjMPWFRrAujh"
      },
      "source": [
        "Let us show some of the training images, for fun.\n",
        "\n"
      ]
    },
    {
      "cell_type": "code",
      "execution_count": null,
      "metadata": {
        "id": "DC-nv_BZAuji"
      },
      "outputs": [],
      "source": [
        "import matplotlib.pyplot as plt\n",
        "import numpy as np\n",
        "\n",
        "# functions to show an image\n",
        "\n",
        "\n",
        "def imshow(img):\n",
        "    img = img / 2 + 0.5     # unnormalize\n",
        "    npimg = img.numpy()\n",
        "    plt.imshow(np.transpose(npimg, (1, 2, 0)))\n",
        "\n",
        "\n",
        "# get some random training images\n",
        "dataiter = iter(trainloader)\n",
        "images, labels = dataiter.next()\n",
        "\n",
        "# show images\n",
        "imshow(torchvision.utils.make_grid(images))\n",
        "# print labels\n",
        "print(' '.join('%5s' % classes[labels[j]] for j in range(4)))"
      ]
    },
    {
      "cell_type": "markdown",
      "metadata": {
        "id": "AUn6fU85Auji"
      },
      "source": [
        "*2*. Define a Convolution Neural Network\n",
        "Copy the neural network from the Neural Networks section before and modify it to\n",
        "take 3-channel images (instead of 1-channel images as it was defined).\n",
        "\n"
      ]
    },
    {
      "cell_type": "code",
      "execution_count": 13,
      "metadata": {
        "id": "O2W_CmpzAujj"
      },
      "outputs": [],
      "source": [
        "import torch\n",
        "import torch.nn as nn\n",
        "import torch.nn.functional as F\n",
        "import torch.optim as optim\n",
        "import torchvision\n",
        "import torchvision.transforms as transforms\n",
        "import matplotlib.pyplot as plt\n",
        "import numpy as np\n",
        "\n",
        "\n",
        "class Net(nn.Module):\n",
        "    def __init__(self):\n",
        "        super(Net, self).__init__()\n",
        "        # first block\n",
        "        self.conv5x5_1   = nn.Conv2d(3, 16, 5, stride=1, padding=1)   # 32→30\n",
        "        self.conv3x3_1   = nn.Conv2d(16,16,3, stride=1, padding=0)    # 30→28\n",
        "        self.conv5x5_2   = nn.Conv2d(16,32,5, stride=2, padding=3)    # 28→24\n",
        "        self.conv3x3_2   = nn.Conv2d(32,32,3, stride=1, padding=2)    # 24→26 (we’ll crop)\n",
        "\n",
        "        # extra Conv3x3 at 24×24 branch\n",
        "        self.conv3x3_extra = nn.Conv2d(32,128,3, stride=1, padding=1) # 26→26→24\n",
        "\n",
        "        # down-sample to 14×14\n",
        "        self.conv3x3_down = nn.Conv2d(128,128,3, stride=2, padding=3) # 26→14\n",
        "\n",
        "        # Layer to reduce channels from 256 to 64 on the 14x14 feature map\n",
        "        self.conv_reduce_channels_14 = nn.Conv2d(256, 64, 1) # 1x1 conv to change channels\n",
        "\n",
        "        # Layer to go from 14x14 to 13x13 spatial size\n",
        "        self.conv_14_to_13 = nn.Conv2d(64, 64, 2, stride=1, padding=0) # 2x2 conv, stride 1, no padding\n",
        "\n",
        "        # 6×6 right & left branches from a 13×13→6×6 conv (now input is 64 channels)\n",
        "        self.conv5x5_r1  = nn.Conv2d(64, 64, 5, stride=2, padding=1)  # 13→6\n",
        "        self.conv5x5_r2  = nn.Conv2d(64, 64, 5, stride=1, padding=2)  # 6→6\n",
        "        self.conv5x5_l1  = nn.Conv2d(64, 64, 5, stride=2, padding=1)\n",
        "        self.conv5x5_l2  = nn.Conv2d(64, 64, 5, stride=1, padding=2)\n",
        "\n",
        "        # after sum at 6×6\n",
        "        self.conv5x5_post = nn.Conv2d(64,256,5, stride=1, padding=2)\n",
        "\n",
        "        # concat at 14×14 (128 + 128 + 128 = 384)\n",
        "        self.conv3x3_cat = nn.Conv2d(384,256,3, stride=1, padding=1)\n",
        "\n",
        "        # final 6×6 conv stack before FCs\n",
        "        self.conv3x3_final1 = nn.Conv2d(256,512,3, stride=1, padding=1)\n",
        "        self.conv3x3_final2 = nn.Conv2d(512,512,3, stride=1, padding=1)\n",
        "        self.conv5x5_final3 = nn.Conv2d(512,512,5, stride=1, padding=2)\n",
        "\n",
        "        # global pooling + FCs\n",
        "        self.global_pool = nn.AdaptiveAvgPool2d(1)\n",
        "        self.fc1 = nn.Linear(512, 120)   # mimic tutorial sizes\n",
        "        self.fc2 = nn.Linear(120, 84)\n",
        "        self.fc3 = nn.Linear(84, 10)\n",
        "\n",
        "    def forward(self, x):\n",
        "        # block1\n",
        "        x = F.relu(self.conv5x5_1(x))\n",
        "        x = F.relu(self.conv3x3_1(x))\n",
        "        x = F.relu(self.conv5x5_2(x))\n",
        "        x = F.relu(self.conv3x3_2(x))\n",
        "\n",
        "        # crop 26→24\n",
        "        x = x[:, :, 1:-1, 1:-1]           # 26→24\n",
        "        mid24 = x                         # save for later\n",
        "\n",
        "        # extra conv3x3@24×24\n",
        "        x24 = F.relu(self.conv3x3_extra(mid24))\n",
        "\n",
        "        # down to 14×14\n",
        "        x14 = F.relu(self.conv3x3_down(x24))\n",
        "\n",
        "        # here you could split into two 14×14 paths and concat;\n",
        "        # for simplicity we just replicate x14 to get 3 chunks of 128→384\n",
        "        cat14 = torch.cat([x14, x14, x14], dim=1)  # C=384\n",
        "        x14_processed = F.relu(self.conv3x3_cat(cat14)) # This is 14x14, 256 channels\n",
        "\n",
        "        # Reduce channels from 256 to 64 on the 14x14 feature map\n",
        "        x14_reduced = F.relu(self.conv_reduce_channels_14(x14_processed)) # 14x14, 64 channels\n",
        "\n",
        "        # Convert 14x14 to 13x13 spatial size\n",
        "        x13_for_branches = F.relu(self.conv_14_to_13(x14_reduced)) # 13x13, 64 channels\n",
        "\n",
        "        # 6×6 right & left branches from a 13×13→6×6 conv\n",
        "        r6 = F.relu(self.conv5x5_r1(x13_for_branches))\n",
        "        r6 = F.relu(self.conv5x5_r2(r6))\n",
        "        l6 = F.relu(self.conv5x5_l1(x13_for_branches))\n",
        "        l6 = F.relu(self.conv5x5_l2(l6))\n",
        "\n",
        "        # element-wise sum at 6×6\n",
        "        s6 = r6 + l6\n",
        "        s6 = F.relu(self.conv5x5_post(s6)) # This layer has 64 input channels, 256 output\n",
        "\n",
        "        # final conv stack on 6x6 feature map\n",
        "        s6 = F.relu(self.conv3x3_final1(s6))\n",
        "        s6 = F.relu(self.conv3x3_final2(s6))\n",
        "        s6 = F.relu(self.conv5x5_final3(s6))\n",
        "\n",
        "        # global pooling + FC like tutorial\n",
        "        out = self.global_pool(s6).view(s6.size(0), -1)\n",
        "        out = F.relu(self.fc1(out))\n",
        "        out = F.relu(self.fc2(out))\n",
        "        out = self.fc3(out)\n",
        "        return out\n",
        "\n",
        "net = Net()"
      ]
    },
    {
      "cell_type": "markdown",
      "metadata": {
        "id": "djjWurMOAujj"
      },
      "source": [
        "3. Define a Loss function and optimizer\n",
        "^^^^^^^^^^^^^^^^^^^^^^^^^^^^^^^^^^^^^^^\n",
        "Let's use a Classification Cross-Entropy loss and SGD with momentum.\n",
        "\n"
      ]
    },
    {
      "cell_type": "code",
      "execution_count": 9,
      "metadata": {
        "id": "HccayaqCAujj"
      },
      "outputs": [],
      "source": [
        "import torch.optim as optim\n",
        "\n",
        "criterion = nn.CrossEntropyLoss()\n",
        "optimizer = optim.SGD(net.parameters(), lr=0.001, momentum=0.9)"
      ]
    },
    {
      "cell_type": "markdown",
      "metadata": {
        "id": "4LifilQXAujj"
      },
      "source": [
        "4. Train the network\n",
        "^^^^^^^^^^^^^^^^^^^^\n",
        "\n",
        "This is when things start to get interesting.\n",
        "We simply have to loop over our data iterator, and feed the inputs to the\n",
        "network and optimize.\n",
        "\n"
      ]
    },
    {
      "cell_type": "code",
      "execution_count": null,
      "metadata": {
        "id": "foY5yH8SAujk"
      },
      "outputs": [],
      "source": [
        "for epoch in range(2):\n",
        "    running_loss = 0.0\n",
        "    for i, data in enumerate(trainloader, 0):\n",
        "        inputs, labels = data\n",
        "        optimizer.zero_grad()\n",
        "        outputs = net(inputs)\n",
        "        loss = criterion(outputs, labels)\n",
        "        loss.backward()\n",
        "        optimizer.step()\n",
        "        running_loss += loss.item()\n",
        "        if (i + 1) % 2000 == 0:\n",
        "            print(f'[Epoch {epoch+1}, Batch {i+1}] loss: {running_loss/2000:.3f}')\n",
        "            running_loss = 0.0\n",
        "\n",
        "print('Finished Training')"
      ]
    },
    {
      "cell_type": "markdown",
      "metadata": {
        "id": "Yzx4S0W4Aujk"
      },
      "source": [
        "5. Test the network on the test data\n",
        "^^^^^^^^^^^^^^^^^^^^^^^^^^^^^^^^^^^^\n",
        "\n",
        "We have trained the network for 2 passes over the training dataset.\n",
        "But we need to check if the network has learnt anything at all.\n",
        "\n",
        "We will check this by predicting the class label that the neural network\n",
        "outputs, and checking it against the ground-truth. If the prediction is\n",
        "correct, we add the sample to the list of correct predictions.\n",
        "\n",
        "Okay, first step. Let us display an image from the test set to get familiar.\n",
        "\n"
      ]
    },
    {
      "cell_type": "code",
      "execution_count": null,
      "metadata": {
        "id": "B3Ipwgy5Aujk"
      },
      "outputs": [],
      "source": [
        "dataiter = iter(testloader)\n",
        "images, labels = dataiter.next()\n",
        "\n",
        "# display\n",
        "imshow(torchvision.utils.make_grid(images))\n",
        "print('GroundTruth: ', ' '.join(f'{classes[labels[j]]:5s}' for j in range(4)))\n",
        "\n",
        "outputs = net(images)\n",
        "_, predicted = torch.max(outputs, 1)\n",
        "print('Predicted:   ', ' '.join(f'{classes[predicted[j]]:5s}' for j in range(4)))"
      ]
    },
    {
      "cell_type": "markdown",
      "metadata": {
        "id": "cxRapRY2Aujk"
      },
      "source": [
        "Okay, now let us see what the neural network thinks these examples above are:\n",
        "\n"
      ]
    },
    {
      "cell_type": "code",
      "execution_count": null,
      "metadata": {
        "id": "ftXZwFRdAujk"
      },
      "outputs": [],
      "source": [
        "outputs = net(images)"
      ]
    },
    {
      "cell_type": "markdown",
      "metadata": {
        "id": "AaVOM6PPAujk"
      },
      "source": [
        "The outputs are energies for the 10 classes.\n",
        "Higher the energy for a class, the more the network\n",
        "thinks that the image is of the particular class.\n",
        "So, let's get the index of the highest energy:\n",
        "\n"
      ]
    },
    {
      "cell_type": "code",
      "execution_count": null,
      "metadata": {
        "id": "2uy3zDXtAujl"
      },
      "outputs": [],
      "source": [
        "_, predicted = torch.max(outputs, 1)\n",
        "\n",
        "print('Predicted: ', ' '.join('%5s' % classes[predicted[j]]\n",
        "                              for j in range(4)))"
      ]
    },
    {
      "cell_type": "markdown",
      "metadata": {
        "id": "RXb2kUHAAujl"
      },
      "source": [
        "The results seem pretty good.\n",
        "\n",
        "Let us look at how the network performs on the whole dataset.\n",
        "\n"
      ]
    },
    {
      "cell_type": "code",
      "execution_count": null,
      "metadata": {
        "id": "gLGpvtScAujl"
      },
      "outputs": [],
      "source": [
        "correct = 0\n",
        "total   = 0\n",
        "with torch.no_grad():\n",
        "    for data in testloader:\n",
        "        images, labels = data\n",
        "        outputs = net(images)\n",
        "        _, preds = torch.max(outputs, 1)\n",
        "        total   += labels.size(0)\n",
        "        correct += (preds == labels).sum().item()\n",
        "\n",
        "print(f'Accuracy of the network on 10000 test images: {100 * correct/total:.1f}%')"
      ]
    },
    {
      "cell_type": "markdown",
      "metadata": {
        "id": "Evs1EHC4Aujl"
      },
      "source": [
        "That looks waaay better than chance, which is 10% accuracy (randomly picking\n",
        "a class out of 10 classes).\n",
        "Seems like the network learnt something.\n",
        "\n",
        "Hmmm, what are the classes that performed well, and the classes that did\n",
        "not perform well:\n",
        "\n"
      ]
    },
    {
      "cell_type": "code",
      "execution_count": null,
      "metadata": {
        "id": "nEjGJQquAujl"
      },
      "outputs": [],
      "source": [
        "class_correct = list(0. for _ in range(10))\n",
        "class_total   = list(0. for _ in range(10))\n",
        "with torch.no_grad():\n",
        "    for data in testloader:\n",
        "        images, labels = data\n",
        "        outputs = net(images)\n",
        "        _, preds = torch.max(outputs, 1)\n",
        "        for i in range(len(labels)):\n",
        "            label = labels[i]\n",
        "            class_correct[label] += (preds[i] == label).item()\n",
        "            class_total[label]   += 1\n",
        "\n",
        "for i, cls in enumerate(classes):\n",
        "    print(f'Accuracy of {cls:5s}: {100 * class_correct[i]/class_total[i]:5.1f}%')"
      ]
    },
    {
      "cell_type": "markdown",
      "metadata": {
        "id": "kk6JpzYXAujl"
      },
      "source": [
        "Okay, so what next?\n",
        "\n",
        "How do we run these neural networks on the GPU?\n",
        "\n",
        "Training on GPU\n",
        "----------------\n",
        "Just like how you transfer a Tensor on to the GPU, you transfer the neural\n",
        "net onto the GPU.\n",
        "\n",
        "Let's first define our device as the first visible cuda device if we have\n",
        "CUDA available:\n",
        "\n"
      ]
    },
    {
      "cell_type": "code",
      "execution_count": null,
      "metadata": {
        "id": "JaJIhflwAujl"
      },
      "outputs": [],
      "source": [
        "device = torch.device(\"cuda:0\" if torch.cuda.is_available() else \"cpu\")\n",
        "\n",
        "# Assume that we are on a CUDA machine, then this should print a CUDA device:\n",
        "\n",
        "print(device)"
      ]
    },
    {
      "cell_type": "markdown",
      "metadata": {
        "id": "eY46Iq-7Aujl"
      },
      "source": [
        "The rest of this section assumes that `device` is a CUDA device.\n",
        "\n",
        "Then these methods will recursively go over all modules and convert their\n",
        "parameters and buffers to CUDA tensors:\n",
        "\n",
        ".. code:: python\n",
        "\n",
        "    net.to(device)\n",
        "\n",
        "\n",
        "Remember that you will have to send the inputs and targets at every step\n",
        "to the GPU too:\n",
        "\n",
        ".. code:: python\n",
        "\n",
        "        inputs, labels = inputs.to(device), labels.to(device)\n",
        "\n",
        "Why dont I notice MASSIVE speedup compared to CPU? Because your network\n",
        "is realllly small.\n",
        "\n",
        "**Exercise:** Try increasing the width of your network (argument 2 of\n",
        "the first ``nn.Conv2d``, and argument 1 of the second ``nn.Conv2d`` –\n",
        "they need to be the same number), see what kind of speedup you get.\n",
        "\n",
        "**Goals achieved**:\n",
        "\n",
        "- Understanding PyTorch's Tensor library and neural networks at a high level.\n",
        "- Train a small neural network to classify images\n",
        "\n",
        "Training on multiple GPUs\n",
        "-------------------------\n",
        "If you want to see even more MASSIVE speedup using all of your GPUs,\n",
        "please check out :doc:`data_parallel_tutorial`.\n",
        "\n",
        "Where do I go next?\n",
        "-------------------\n",
        "\n",
        "-  :doc:`Train neural nets to play video games </intermediate/reinforcement_q_learning>`\n",
        "-  `Train a state-of-the-art ResNet network on imagenet`_\n",
        "-  `Train a face generator using Generative Adversarial Networks`_\n",
        "-  `Train a word-level language model using Recurrent LSTM networks`_\n",
        "-  `More examples`_\n",
        "-  `More tutorials`_\n",
        "-  `Discuss PyTorch on the Forums`_\n",
        "-  `Chat with other users on Slack`_\n",
        "\n",
        "\n"
      ]
    }
  ],
  "metadata": {
    "kernelspec": {
      "display_name": "Python 3",
      "name": "python3"
    },
    "language_info": {
      "codemirror_mode": {
        "name": "ipython",
        "version": 3
      },
      "file_extension": ".py",
      "mimetype": "text/x-python",
      "name": "python",
      "nbconvert_exporter": "python",
      "pygments_lexer": "ipython3",
      "version": "3.6.6"
    },
    "colab": {
      "provenance": [],
      "gpuType": "T4"
    },
    "accelerator": "GPU"
  },
  "nbformat": 4,
  "nbformat_minor": 0
}